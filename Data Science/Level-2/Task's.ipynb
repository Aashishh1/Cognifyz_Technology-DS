{
 "cells": [
  {
   "cell_type": "markdown",
   "metadata": {},
   "source": [
    "# **Task 1 - Table Booking and Online Delivery**\n"
   ]
  },
  {
   "cell_type": "code",
   "execution_count": 22,
   "metadata": {},
   "outputs": [],
   "source": [
    "import pandas as pd\n",
    "import seaborn as sns\n",
    "import matplotlib.pyplot as plt"
   ]
  },
  {
   "cell_type": "code",
   "execution_count": 23,
   "metadata": {},
   "outputs": [],
   "source": [
    "df = pd.read_csv(r'C:\\Users\\Ashish Mishra\\OneDrive\\Desktop\\Data Science\\Dataset.csv')"
   ]
  },
  {
   "cell_type": "code",
   "execution_count": 24,
   "metadata": {},
   "outputs": [],
   "source": [
    "df.fillna({'Has Table booking': 'No', 'Has Online delivery': 'No', 'Aggregate rating': 0, 'Price range': df['Price range'].median()}, inplace=True)"
   ]
  },
  {
   "cell_type": "code",
   "execution_count": 25,
   "metadata": {},
   "outputs": [],
   "source": [
    "total = len(df)\n",
    "table_booking_percent = (df['Has Table booking'].value_counts(normalize=True)['Yes'] * 100)\n",
    "online_delivery_percent = (df['Has Online delivery'].value_counts(normalize=True)['Yes'] * 100)"
   ]
  },
  {
   "cell_type": "code",
   "execution_count": 26,
   "metadata": {},
   "outputs": [],
   "source": [
    "avg_rating_with_table = df[df['Has Table booking'] == 'Yes']['Aggregate rating'].mean()\n",
    "avg_rating_without_table = df[df['Has Table booking'] == 'No']['Aggregate rating'].mean()"
   ]
  },
  {
   "cell_type": "code",
   "execution_count": 27,
   "metadata": {},
   "outputs": [],
   "source": [
    "online_delivery_distribution = df.groupby('Price range')['Has Online delivery'].value_counts(normalize=True).unstack() * 100"
   ]
  },
  {
   "cell_type": "code",
   "execution_count": 28,
   "metadata": {},
   "outputs": [
    {
     "name": "stdout",
     "output_type": "stream",
     "text": [
      "\n",
      "=== Results ===\n",
      "1. Table booking: 12.12%\n",
      "2. Online delivery: 25.66%\n",
      "3. Avg rating (table): 3.44\n",
      "4. Avg rating (no table): 2.56\n"
     ]
    }
   ],
   "source": [
    "print(f\"\\n=== Results ===\")\n",
    "print(f\"1. Table booking: {table_booking_percent:.2f}%\")\n",
    "print(f\"2. Online delivery: {online_delivery_percent:.2f}%\")\n",
    "print(f\"3. Avg rating (table): {avg_rating_with_table:.2f}\")\n",
    "print(f\"4. Avg rating (no table): {avg_rating_without_table:.2f}\")"
   ]
  },
  {
   "cell_type": "code",
   "execution_count": 29,
   "metadata": {},
   "outputs": [
    {
     "data": {
      "image/png": "[encoded data removed]",
      "text/plain": [
       "<Figure size 640x480 with 1 Axes>"
      ]
     },
     "metadata": {},
     "output_type": "display_data"
    }
   ],
   "source": [
    "online_delivery_distribution.plot(kind='bar', stacked=True)\n",
    "plt.title('Online Delivery by Price Range')\n",
    "plt.tight_layout()\n",
    "plt.show()"
   ]
  },
  {
   "cell_type": "markdown",
   "metadata": {},
   "source": [
    "# **Task 2 - Price Range Analysis**\n"
   ]
  },
  {
   "cell_type": "code",
   "execution_count": 30,
   "metadata": {},
   "outputs": [],
   "source": [
    "df['Aggregate rating'] = df['Aggregate rating'].fillna(0)\n",
    "df['Price range'] = df['Price range'].fillna(df['Price range'].median())"
   ]
  },
  {
   "cell_type": "code",
   "execution_count": 31,
   "metadata": {},
   "outputs": [],
   "source": [
    "most_common_price_range = df['Price range'].mode()[0]"
   ]
  },
  {
   "cell_type": "code",
   "execution_count": 32,
   "metadata": {},
   "outputs": [],
   "source": [
    "avg_rating_by_price_range = df.groupby('Price range')['Aggregate rating'].mean()"
   ]
  },
  {
   "cell_type": "code",
   "execution_count": 33,
   "metadata": {},
   "outputs": [],
   "source": [
    "highest_avg_rating_price_range = avg_rating_by_price_range.idxmax()\n",
    "highest_avg_rating = avg_rating_by_price_range.max()"
   ]
  },
  {
   "cell_type": "code",
   "execution_count": 34,
   "metadata": {},
   "outputs": [
    {
     "name": "stdout",
     "output_type": "stream",
     "text": [
      "\n",
      "=== Price Range Analysis ===\n",
      "1. Most common price range: 1\n",
      "2. Average rating by price range:\n",
      "Price range\n",
      "1    1.999887\n",
      "2    2.941054\n",
      "3    3.683381\n",
      "4    3.817918\n",
      "Name: Aggregate rating, dtype: float64\n",
      "3. Price range with highest average rating: 4 (3.82)\n"
     ]
    }
   ],
   "source": [
    "print(\"\\n=== Price Range Analysis ===\")\n",
    "print(f\"1. Most common price range: {most_common_price_range}\")\n",
    "print(\"2. Average rating by price range:\")\n",
    "print(avg_rating_by_price_range)\n",
    "print(f\"3. Price range with highest average rating: {highest_avg_rating_price_range} ({highest_avg_rating:.2f})\")"
   ]
  },
  {
   "cell_type": "markdown",
   "metadata": {},
   "source": [
    "# **Task 3 - Feature Engineering**\n"
   ]
  },
  {
   "cell_type": "code",
   "execution_count": 35,
   "metadata": {},
   "outputs": [],
   "source": [
    "def extract_features(data):\n",
    "    data['Name Length'] = data['Restaurant Name'].apply(len)\n",
    "    data['Address Length'] = data['Address'].apply(len)\n",
    "    return data"
   ]
  },
  {
   "cell_type": "code",
   "execution_count": 36,
   "metadata": {},
   "outputs": [],
   "source": [
    "df = extract_features(df)"
   ]
  },
  {
   "cell_type": "code",
   "execution_count": 37,
   "metadata": {},
   "outputs": [],
   "source": [
    "def encode_categorical_features(data):\n",
    "    data['Has Table Booking'] = data['Has Table booking'].map({'Yes': 1, 'No': 0})\n",
    "    data['Has Online Delivery'] = data['Has Online delivery'].map({'Yes': 1, 'No': 0})\n",
    "    return data\n",
    "df = encode_categorical_features(df)"
   ]
  },
  {
   "cell_type": "code",
   "execution_count": 38,
   "metadata": {},
   "outputs": [
    {
     "name": "stdout",
     "output_type": "stream",
     "text": [
      "\n",
      "=== Updated DataFrame with New Features ===\n",
      "          Restaurant Name  Name Length  \\\n",
      "0        Le Petit Souffle           16   \n",
      "1        Izakaya Kikufuji           16   \n",
      "2  Heat - Edsa Shangri-La           22   \n",
      "3                    Ooma            4   \n",
      "4             Sambo Kojin           11   \n",
      "\n",
      "                                             Address  Address Length  \\\n",
      "0  Third Floor, Century City Mall, Kalayaan Avenu...              71   \n",
      "1  Little Tokyo, 2277 Chino Roces Avenue, Legaspi...              67   \n",
      "2  Edsa Shangri-La, 1 Garden Way, Ortigas, Mandal...              56   \n",
      "3  Third Floor, Mega Fashion Hall, SM Megamall, O...              70   \n",
      "4  Third Floor, Mega Atrium, SM Megamall, Ortigas...              64   \n",
      "\n",
      "   Has Table Booking  Has Online Delivery  \n",
      "0                  1                    0  \n",
      "1                  1                    0  \n",
      "2                  1                    0  \n",
      "3                  0                    0  \n",
      "4                  1                    0  \n"
     ]
    }
   ],
   "source": [
    "print(\"\\n=== Updated DataFrame with New Features ===\")\n",
    "print(df[['Restaurant Name', 'Name Length', 'Address', 'Address Length', 'Has Table Booking', 'Has Online Delivery']].head())"
   ]
  }
 ],
 "metadata": {
  "kernelspec": {
   "display_name": "base",
   "language": "python",
   "name": "python3"
  },
  "language_info": {
   "codemirror_mode": {
    "name": "ipython",
    "version": 3
   },
   "file_extension": ".py",
   "mimetype": "text/x-python",
   "name": "python",
   "nbconvert_exporter": "python",
   "pygments_lexer": "ipython3",
   "version": "3.12.7"
  }
 },
 "nbformat": 4,
 "nbformat_minor": 2
}
